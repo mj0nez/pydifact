{
 "cells": [
  {
   "cell_type": "code",
   "execution_count": 1,
   "metadata": {},
   "outputs": [],
   "source": [
    "import sys\n",
    "from pathlib import Path\n",
    "\n",
    "sys.path.append(str(Path().cwd().parent))\n",
    "\n",
    "from pydifact.segmentcollection import Interchange\n",
    "from pydifact.segments import EDIenergySegment\n",
    "\n",
    "TEST_DATA = Path().cwd().parent / \"tests\" / \"data\"\n",
    "SAMPLE_DATA = Path().cwd().parent / \"edi_energy\""
   ]
  },
  {
   "cell_type": "code",
   "execution_count": 2,
   "metadata": {},
   "outputs": [],
   "source": [
    "def read_file(message_file) -> Interchange:\n",
    "    return Interchange.from_file(message_file)"
   ]
  },
  {
   "cell_type": "code",
   "execution_count": 3,
   "metadata": {},
   "outputs": [],
   "source": [
    "wiki_edi = read_file(TEST_DATA / \"wikipedia.edi\")  # test data from pydifact\n",
    "quotes = read_file(SAMPLE_DATA / \"quotes.txt\")  # sample data from QUOTES MIG by EDI@Energy"
   ]
  },
  {
   "cell_type": "code",
   "execution_count": 4,
   "metadata": {},
   "outputs": [
    {
     "data": {
      "text/plain": [
       "1"
      ]
     },
     "execution_count": 4,
     "metadata": {},
     "output_type": "execute_result"
    }
   ],
   "source": [
    "message = [x for x in quotes.get_messages()]\n",
    "len(message)"
   ]
  },
  {
   "cell_type": "code",
   "execution_count": 5,
   "metadata": {},
   "outputs": [],
   "source": [
    "message = message[0]"
   ]
  },
  {
   "cell_type": "code",
   "execution_count": 6,
   "metadata": {},
   "outputs": [],
   "source": [
    "def get_header(message) -> EDIenergySegment:\n",
    "    return message.get_header_segment()"
   ]
  },
  {
   "cell_type": "code",
   "execution_count": 7,
   "metadata": {},
   "outputs": [
    {
     "data": {
      "text/plain": [
       "UNH segment: ['X', ['QUOTES', 'D', '10A', 'UN', '1.1b']]"
      ]
     },
     "execution_count": 7,
     "metadata": {},
     "output_type": "execute_result"
    }
   ],
   "source": [
    "get_header(message)"
   ]
  },
  {
   "cell_type": "code",
   "execution_count": 8,
   "metadata": {},
   "outputs": [
    {
     "name": "stdout",
     "output_type": "stream",
     "text": [
      "'BGM' EDI segment: ['310', 'MKIDI5422']\n",
      "'DTM' EDI segment: [['137', '199904081315', '203']]\n",
      "'DTM' EDI segment: [['76', '20071001', '102']]\n",
      "'DTM' EDI segment: [['203', '20071001', '102']]\n",
      "'DTM' EDI segment: [['469', '20071001', '102']]\n",
      "'IMD' EDI segment: ['', 'Z08']\n",
      "'RFF' EDI segment: [['AAV', '123456789']]\n",
      "'DTM' EDI segment: [['171', '201101311215', '203']]\n",
      "'RFF' EDI segment: [['Z13', '15001']]\n",
      "'CUX' EDI segment: [['2', 'EUR', '4']]\n",
      "'NAD' EDI segment: ['MS', ['9900259000002', '', '293']]\n",
      "'CTA' EDI segment: ['IC', ['', 'P GETTY']]\n",
      "'COM' EDI segment: [['003222271020', 'TE']]\n",
      "'NAD' EDI segment: ['MR', ['9900259000002', '', '293']]\n",
      "'NAD' EDI segment: ['DP']\n",
      "'LOC' EDI segment: ['172', 'DE00014545768S0000000000000003054']\n",
      "'LIN' EDI segment: ['1', '', ['9900010000649', 'Z01']]\n",
      "'PIA' EDI segment: ['1', ['FX12', 'Z06']]\n",
      "'IMD' EDI segment: ['', 'Z09']\n",
      "'QTY' EDI segment: [['145', '1', 'H87']]\n",
      "'QTY' EDI segment: [['136', '1', 'MON']]\n",
      "'DTM' EDI segment: [['94', '1999', '602']]\n",
      "'DTM' EDI segment: [['Z04', '2012', '602']]\n",
      "'GIN' EDI segment: ['BN', '124332458763']\n",
      "'FTX' EDI segment: ['ACB', '', '', ['Text', 'Text2', 'Text3', 'Text4', 'Text5']]\n",
      "'CCI' EDI segment: ['', '', 'E13']\n",
      "'CAV' EDI segment: [['EHZ', '', '', 'Z01']]\n",
      "'CAV' EDI segment: [['', '', '', 'G16']]\n",
      "'CAV' EDI segment: ['ETZ']\n",
      "'CAV' EDI segment: ['ERZ']\n",
      "'CCI' EDI segment: ['', '', 'Z25']\n",
      "'CAV' EDI segment: [['MIW', '', '', '10']]\n",
      "'CCI' EDI segment: ['', '', 'Z64']\n",
      "'CAV' EDI segment: ['DMU']\n",
      "'CCI' EDI segment: ['', '', 'Z26']\n",
      "'CAV' EDI segment: ['GSM']\n",
      "'CCI' EDI segment: ['', '', 'Z27']\n",
      "'CAV' EDI segment: ['RSU']\n",
      "'CCI' EDI segment: ['', '', 'Z75']\n",
      "'CCI' EDI segment: ['', '', 'Z76']\n",
      "'CCI' EDI segment: ['', '', 'Z28']\n",
      "'CAV' EDI segment: ['DPA']\n",
      "'CCI' EDI segment: ['', '', 'E12']\n",
      "'CAV' EDI segment: ['AMR']\n",
      "'MOA' EDI segment: [['203', '9']]\n",
      "'PRI' EDI segment: [['CAL', '5']]\n",
      "'RFF' EDI segment: [['Z09', '8465929523']]\n",
      "'RFF' EDI segment: [['AVE', '57685676748']]\n",
      "'RFF' EDI segment: [['APF', 'X', 'X', 'X']]\n",
      "'UNS' EDI segment: ['S']\n",
      "'MOA' EDI segment: [['97', '2121']]\n"
     ]
    }
   ],
   "source": [
    "\n",
    "for segment in message.segments:\n",
    "    print(segment)"
   ]
  },
  {
   "cell_type": "code",
   "execution_count": null,
   "metadata": {},
   "outputs": [],
   "source": []
  }
 ],
 "metadata": {
  "interpreter": {
   "hash": "884fb92db3b48914d2d0538c6a526c762a72aa48166474ff5e5d0a7171a3fb7c"
  },
  "kernelspec": {
   "display_name": "Python 3.9.2 64-bit ('venv': venv)",
   "name": "python3"
  },
  "language_info": {
   "codemirror_mode": {
    "name": "ipython",
    "version": 3
   },
   "file_extension": ".py",
   "mimetype": "text/x-python",
   "name": "python",
   "nbconvert_exporter": "python",
   "pygments_lexer": "ipython3",
   "version": "3.9.2"
  },
  "orig_nbformat": 4
 },
 "nbformat": 4,
 "nbformat_minor": 2
}
